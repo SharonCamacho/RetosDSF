{
  "nbformat": 4,
  "nbformat_minor": 0,
  "metadata": {
    "colab": {
      "name": "The Minion Game.ipynb",
      "provenance": [],
      "authorship_tag": "ABX9TyPgMiK5EKBUzdnOt+5Dyb40",
      "include_colab_link": true
    },
    "kernelspec": {
      "name": "python3",
      "display_name": "Python 3"
    }
  },
  "cells": [
    {
      "cell_type": "markdown",
      "metadata": {
        "id": "view-in-github",
        "colab_type": "text"
      },
      "source": [
        "<a href=\"https://colab.research.google.com/github/SharonCamacho/RetosDSF/blob/main/The_Minion_Game.ipynb\" target=\"_parent\"><img src=\"https://colab.research.google.com/assets/colab-badge.svg\" alt=\"Open In Colab\"/></a>"
      ]
    },
    {
      "cell_type": "code",
      "metadata": {
        "id": "tC0iCFrAvJ8V"
      },
      "source": [
        "def minion_game(string):\r\n",
        "    # your code goes here\r\n",
        "\r\n",
        "if __name__ == '__main__':"
      ],
      "execution_count": null,
      "outputs": []
    }
  ]
}